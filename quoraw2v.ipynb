{
 "cells": [
  {
   "cell_type": "code",
   "execution_count": 4,
   "metadata": {
    "collapsed": false
   },
   "outputs": [
    {
     "name": "stderr",
     "output_type": "stream",
     "text": [
      "Using TensorFlow backend.\n"
     ]
    }
   ],
   "source": [
    "# import libraries\n",
    "import pickle\n",
    "import pandas as pd\n",
    "import gensim.models.word2vec as w2v\n",
    "import multiprocessing\n",
    "import os\n",
    "import numpy as np"
   ]
  },
  {
   "cell_type": "code",
   "execution_count": 2,
   "metadata": {
    "collapsed": true
   },
   "outputs": [],
   "source": [
    "data = pd.read_pickle('../data/quora.pickle')"
   ]
  },
  {
   "cell_type": "code",
   "execution_count": 3,
   "metadata": {
    "collapsed": false
   },
   "outputs": [
    {
     "data": {
      "text/html": [
       "<div>\n",
       "<style>\n",
       "    .dataframe thead tr:only-child th {\n",
       "        text-align: right;\n",
       "    }\n",
       "\n",
       "    .dataframe thead th {\n",
       "        text-align: left;\n",
       "    }\n",
       "\n",
       "    .dataframe tbody tr th {\n",
       "        vertical-align: top;\n",
       "    }\n",
       "</style>\n",
       "<table border=\"1\" class=\"dataframe\">\n",
       "  <thead>\n",
       "    <tr style=\"text-align: right;\">\n",
       "      <th></th>\n",
       "      <th>q1_len</th>\n",
       "      <th>q2_len</th>\n",
       "      <th>q1_voc_len</th>\n",
       "      <th>q2_voc_len</th>\n",
       "      <th>q1_average_word_len</th>\n",
       "      <th>q2_average_word_len</th>\n",
       "      <th>shared_token_len</th>\n",
       "      <th>shared_token_average_word_len</th>\n",
       "      <th>question_1</th>\n",
       "      <th>is_duplicate</th>\n",
       "      <th>question_2</th>\n",
       "    </tr>\n",
       "  </thead>\n",
       "  <tbody>\n",
       "    <tr>\n",
       "      <th>0</th>\n",
       "      <td>67</td>\n",
       "      <td>58</td>\n",
       "      <td>13</td>\n",
       "      <td>12</td>\n",
       "      <td>3.53</td>\n",
       "      <td>3.54</td>\n",
       "      <td>12</td>\n",
       "      <td>3.5</td>\n",
       "      <td>[what, is, the, step, by, step, guide, to, inv...</td>\n",
       "      <td>0</td>\n",
       "      <td>[what, is, the, step, by, step, guide, to, inv...</td>\n",
       "    </tr>\n",
       "    <tr>\n",
       "      <th>1</th>\n",
       "      <td>56</td>\n",
       "      <td>93</td>\n",
       "      <td>13</td>\n",
       "      <td>17</td>\n",
       "      <td>3.23</td>\n",
       "      <td>4.11</td>\n",
       "      <td>10</td>\n",
       "      <td>3.3</td>\n",
       "      <td>[what, is, the, story, of, kohinoor, (, koh, i...</td>\n",
       "      <td>0</td>\n",
       "      <td>[what, would, happen, if, the, indian, governm...</td>\n",
       "    </tr>\n",
       "    <tr>\n",
       "      <th>2</th>\n",
       "      <td>74</td>\n",
       "      <td>60</td>\n",
       "      <td>15</td>\n",
       "      <td>11</td>\n",
       "      <td>4.00</td>\n",
       "      <td>4.55</td>\n",
       "      <td>5</td>\n",
       "      <td>4.0</td>\n",
       "      <td>[how, can, i, increase, the, speed, of, my, in...</td>\n",
       "      <td>0</td>\n",
       "      <td>[how, can, internet, speed, be, increased, by,...</td>\n",
       "    </tr>\n",
       "    <tr>\n",
       "      <th>3</th>\n",
       "      <td>53</td>\n",
       "      <td>68</td>\n",
       "      <td>11</td>\n",
       "      <td>12</td>\n",
       "      <td>3.08</td>\n",
       "      <td>3.27</td>\n",
       "      <td>1</td>\n",
       "      <td>1.0</td>\n",
       "      <td>[why, am, i, mentally, very, lonely, ?, how, c...</td>\n",
       "      <td>0</td>\n",
       "      <td>[find, the, remainder, when, math, 23, 24, mat...</td>\n",
       "    </tr>\n",
       "    <tr>\n",
       "      <th>4</th>\n",
       "      <td>81</td>\n",
       "      <td>40</td>\n",
       "      <td>15</td>\n",
       "      <td>8</td>\n",
       "      <td>4.00</td>\n",
       "      <td>4.12</td>\n",
       "      <td>5</td>\n",
       "      <td>3.4</td>\n",
       "      <td>[which, one, dissolve, in, water, quikly, suga...</td>\n",
       "      <td>0</td>\n",
       "      <td>[which, fish, would, survive, in, salt, water, ?]</td>\n",
       "    </tr>\n",
       "  </tbody>\n",
       "</table>\n",
       "</div>"
      ],
      "text/plain": [
       "   q1_len  q2_len  q1_voc_len  q2_voc_len  q1_average_word_len  \\\n",
       "0      67      58          13          12                 3.53   \n",
       "1      56      93          13          17                 3.23   \n",
       "2      74      60          15          11                 4.00   \n",
       "3      53      68          11          12                 3.08   \n",
       "4      81      40          15           8                 4.00   \n",
       "\n",
       "   q2_average_word_len  shared_token_len  shared_token_average_word_len  \\\n",
       "0                 3.54                12                            3.5   \n",
       "1                 4.11                10                            3.3   \n",
       "2                 4.55                 5                            4.0   \n",
       "3                 3.27                 1                            1.0   \n",
       "4                 4.12                 5                            3.4   \n",
       "\n",
       "                                          question_1  is_duplicate  \\\n",
       "0  [what, is, the, step, by, step, guide, to, inv...             0   \n",
       "1  [what, is, the, story, of, kohinoor, (, koh, i...             0   \n",
       "2  [how, can, i, increase, the, speed, of, my, in...             0   \n",
       "3  [why, am, i, mentally, very, lonely, ?, how, c...             0   \n",
       "4  [which, one, dissolve, in, water, quikly, suga...             0   \n",
       "\n",
       "                                          question_2  \n",
       "0  [what, is, the, step, by, step, guide, to, inv...  \n",
       "1  [what, would, happen, if, the, indian, governm...  \n",
       "2  [how, can, internet, speed, be, increased, by,...  \n",
       "3  [find, the, remainder, when, math, 23, 24, mat...  \n",
       "4  [which, fish, would, survive, in, salt, water, ?]  "
      ]
     },
     "execution_count": 3,
     "metadata": {},
     "output_type": "execute_result"
    }
   ],
   "source": [
    "data.head()"
   ]
  },
  {
   "cell_type": "code",
   "execution_count": 4,
   "metadata": {
    "collapsed": true
   },
   "outputs": [],
   "source": [
    "# remove empty row\n",
    "ind1 = data[data['q1_len'] == 0].index\n",
    "ind2 = data[data['q2_len'] == 0].index"
   ]
  },
  {
   "cell_type": "code",
   "execution_count": 5,
   "metadata": {
    "collapsed": true
   },
   "outputs": [],
   "source": [
    "ind = ind1.append(ind2)"
   ]
  },
  {
   "cell_type": "code",
   "execution_count": 6,
   "metadata": {
    "collapsed": false
   },
   "outputs": [
    {
     "data": {
      "text/plain": [
       "Int64Index([3306, 190570, 290090, 301583, 20072, 144343, 384293], dtype='int64')"
      ]
     },
     "execution_count": 6,
     "metadata": {},
     "output_type": "execute_result"
    }
   ],
   "source": [
    "ind"
   ]
  },
  {
   "cell_type": "code",
   "execution_count": 7,
   "metadata": {
    "collapsed": true
   },
   "outputs": [],
   "source": [
    "data.drop(ind, inplace=True)"
   ]
  },
  {
   "cell_type": "code",
   "execution_count": 8,
   "metadata": {
    "collapsed": false
   },
   "outputs": [
    {
     "data": {
      "text/html": [
       "<div>\n",
       "<style>\n",
       "    .dataframe thead tr:only-child th {\n",
       "        text-align: right;\n",
       "    }\n",
       "\n",
       "    .dataframe thead th {\n",
       "        text-align: left;\n",
       "    }\n",
       "\n",
       "    .dataframe tbody tr th {\n",
       "        vertical-align: top;\n",
       "    }\n",
       "</style>\n",
       "<table border=\"1\" class=\"dataframe\">\n",
       "  <thead>\n",
       "    <tr style=\"text-align: right;\">\n",
       "      <th></th>\n",
       "      <th>q1_len</th>\n",
       "    </tr>\n",
       "  </thead>\n",
       "  <tbody>\n",
       "    <tr>\n",
       "      <th>count</th>\n",
       "      <td>404281.000000</td>\n",
       "    </tr>\n",
       "    <tr>\n",
       "      <th>mean</th>\n",
       "      <td>61.163663</td>\n",
       "    </tr>\n",
       "    <tr>\n",
       "      <th>std</th>\n",
       "      <td>30.760206</td>\n",
       "    </tr>\n",
       "    <tr>\n",
       "      <th>min</th>\n",
       "      <td>1.000000</td>\n",
       "    </tr>\n",
       "    <tr>\n",
       "      <th>25%</th>\n",
       "      <td>40.000000</td>\n",
       "    </tr>\n",
       "    <tr>\n",
       "      <th>50%</th>\n",
       "      <td>53.000000</td>\n",
       "    </tr>\n",
       "    <tr>\n",
       "      <th>75%</th>\n",
       "      <td>74.000000</td>\n",
       "    </tr>\n",
       "    <tr>\n",
       "      <th>max</th>\n",
       "      <td>644.000000</td>\n",
       "    </tr>\n",
       "  </tbody>\n",
       "</table>\n",
       "</div>"
      ],
      "text/plain": [
       "              q1_len\n",
       "count  404281.000000\n",
       "mean       61.163663\n",
       "std        30.760206\n",
       "min         1.000000\n",
       "25%        40.000000\n",
       "50%        53.000000\n",
       "75%        74.000000\n",
       "max       644.000000"
      ]
     },
     "execution_count": 8,
     "metadata": {},
     "output_type": "execute_result"
    }
   ],
   "source": [
    "data[['q1_len']].describe()"
   ]
  },
  {
   "cell_type": "code",
   "execution_count": 9,
   "metadata": {
    "collapsed": false
   },
   "outputs": [
    {
     "data": {
      "text/html": [
       "<div>\n",
       "<style>\n",
       "    .dataframe thead tr:only-child th {\n",
       "        text-align: right;\n",
       "    }\n",
       "\n",
       "    .dataframe thead th {\n",
       "        text-align: left;\n",
       "    }\n",
       "\n",
       "    .dataframe tbody tr th {\n",
       "        vertical-align: top;\n",
       "    }\n",
       "</style>\n",
       "<table border=\"1\" class=\"dataframe\">\n",
       "  <thead>\n",
       "    <tr style=\"text-align: right;\">\n",
       "      <th></th>\n",
       "      <th>q2_len</th>\n",
       "    </tr>\n",
       "  </thead>\n",
       "  <tbody>\n",
       "    <tr>\n",
       "      <th>count</th>\n",
       "      <td>404281.000000</td>\n",
       "    </tr>\n",
       "    <tr>\n",
       "      <th>mean</th>\n",
       "      <td>61.750359</td>\n",
       "    </tr>\n",
       "    <tr>\n",
       "      <th>std</th>\n",
       "      <td>34.777124</td>\n",
       "    </tr>\n",
       "    <tr>\n",
       "      <th>min</th>\n",
       "      <td>1.000000</td>\n",
       "    </tr>\n",
       "    <tr>\n",
       "      <th>25%</th>\n",
       "      <td>40.000000</td>\n",
       "    </tr>\n",
       "    <tr>\n",
       "      <th>50%</th>\n",
       "      <td>52.000000</td>\n",
       "    </tr>\n",
       "    <tr>\n",
       "      <th>75%</th>\n",
       "      <td>73.000000</td>\n",
       "    </tr>\n",
       "    <tr>\n",
       "      <th>max</th>\n",
       "      <td>1189.000000</td>\n",
       "    </tr>\n",
       "  </tbody>\n",
       "</table>\n",
       "</div>"
      ],
      "text/plain": [
       "              q2_len\n",
       "count  404281.000000\n",
       "mean       61.750359\n",
       "std        34.777124\n",
       "min         1.000000\n",
       "25%        40.000000\n",
       "50%        52.000000\n",
       "75%        73.000000\n",
       "max      1189.000000"
      ]
     },
     "execution_count": 9,
     "metadata": {},
     "output_type": "execute_result"
    }
   ],
   "source": [
    "data[['q2_len']].describe()"
   ]
  },
  {
   "cell_type": "code",
   "execution_count": 10,
   "metadata": {
    "collapsed": true
   },
   "outputs": [],
   "source": [
    "q1_greater_than100 = data[data['q1_len']> 100]"
   ]
  },
  {
   "cell_type": "code",
   "execution_count": 11,
   "metadata": {
    "collapsed": false
   },
   "outputs": [
    {
     "data": {
      "text/plain": [
       "(42057, 11)"
      ]
     },
     "execution_count": 11,
     "metadata": {},
     "output_type": "execute_result"
    }
   ],
   "source": [
    "q1_greater_than100.shape"
   ]
  },
  {
   "cell_type": "code",
   "execution_count": 12,
   "metadata": {
    "collapsed": false
   },
   "outputs": [
    {
     "data": {
      "text/plain": [
       "['what',\n",
       " 'are',\n",
       " 'the',\n",
       " 'laws',\n",
       " 'to',\n",
       " 'change',\n",
       " 'your',\n",
       " 'status',\n",
       " 'from',\n",
       " 'a',\n",
       " 'student',\n",
       " 'visa',\n",
       " 'to',\n",
       " 'a',\n",
       " 'green',\n",
       " 'card',\n",
       " 'in',\n",
       " 'the',\n",
       " 'us',\n",
       " ',',\n",
       " 'how',\n",
       " 'do',\n",
       " 'they',\n",
       " 'compare',\n",
       " 'to',\n",
       " 'the',\n",
       " 'immigration',\n",
       " 'laws',\n",
       " 'in',\n",
       " 'canada',\n",
       " '?']"
      ]
     },
     "execution_count": 12,
     "metadata": {},
     "output_type": "execute_result"
    }
   ],
   "source": [
    "q1_greater_than100['question_1'].iloc[0]"
   ]
  },
  {
   "cell_type": "code",
   "execution_count": 13,
   "metadata": {
    "collapsed": true
   },
   "outputs": [],
   "source": [
    "# remove all the index greater than 100\n",
    "ind100 = data[data['q1_len'] > 100].index\n",
    "data.drop(ind100, inplace=True)\n",
    "\n",
    "ind100_2 = data[data['q2_len'] > 100].index\n",
    "data.drop(ind100_2, inplace=True)"
   ]
  },
  {
   "cell_type": "code",
   "execution_count": 14,
   "metadata": {
    "collapsed": false
   },
   "outputs": [
    {
     "data": {
      "text/plain": [
       "(335001, 11)"
      ]
     },
     "execution_count": 14,
     "metadata": {},
     "output_type": "execute_result"
    }
   ],
   "source": [
    "data.shape"
   ]
  },
  {
   "cell_type": "code",
   "execution_count": 15,
   "metadata": {
    "collapsed": true
   },
   "outputs": [],
   "source": [
    "q1_less_than5 = data[data['q1_len']< 5]"
   ]
  },
  {
   "cell_type": "code",
   "execution_count": 16,
   "metadata": {
    "collapsed": false
   },
   "outputs": [
    {
     "data": {
      "text/plain": [
       "(25, 11)"
      ]
     },
     "execution_count": 16,
     "metadata": {},
     "output_type": "execute_result"
    }
   ],
   "source": [
    "q1_less_than5.shape"
   ]
  },
  {
   "cell_type": "code",
   "execution_count": 17,
   "metadata": {
    "collapsed": true
   },
   "outputs": [],
   "source": [
    "q2_less_than5 = data[data['q2_len']< 5]"
   ]
  },
  {
   "cell_type": "code",
   "execution_count": 18,
   "metadata": {
    "collapsed": false
   },
   "outputs": [
    {
     "data": {
      "text/plain": [
       "(9, 11)"
      ]
     },
     "execution_count": 18,
     "metadata": {},
     "output_type": "execute_result"
    }
   ],
   "source": [
    "q2_less_than5.shape"
   ]
  },
  {
   "cell_type": "code",
   "execution_count": 19,
   "metadata": {
    "collapsed": true
   },
   "outputs": [],
   "source": [
    "# remove all the question less than 5\n",
    "ind5_1 = data[data['q1_len'] < 5].index\n",
    "ind5_2 = data[data['q2_len'] < 5].index\n",
    "ind5 = ind5_1.append(ind5_2)\n",
    "data.drop(ind5, inplace=True)"
   ]
  },
  {
   "cell_type": "code",
   "execution_count": 20,
   "metadata": {
    "collapsed": false
   },
   "outputs": [
    {
     "data": {
      "text/plain": [
       "(334968, 11)"
      ]
     },
     "execution_count": 20,
     "metadata": {},
     "output_type": "execute_result"
    }
   ],
   "source": [
    "data.shape"
   ]
  },
  {
   "cell_type": "code",
   "execution_count": 21,
   "metadata": {
    "collapsed": true
   },
   "outputs": [],
   "source": [
    "# pad sentences with empty string\n",
    "#sentences_1 = data['question_1'].apply(lambda x: x + ['']*(100 - len(x)))\n",
    "#sentences_2 = data['question_2'].apply(lambda x: x + ['']*(100 - len(x)))"
   ]
  },
  {
   "cell_type": "code",
   "execution_count": 23,
   "metadata": {
    "collapsed": true
   },
   "outputs": [],
   "source": [
    "sentences_1 = data['question_1']\n",
    "sentences_2 = data['question_2']"
   ]
  },
  {
   "cell_type": "code",
   "execution_count": 24,
   "metadata": {
    "collapsed": true
   },
   "outputs": [],
   "source": [
    "# get all the questions\n",
    "questions = sentences_1.append(sentences_2, ignore_index=True).tolist()"
   ]
  },
  {
   "cell_type": "code",
   "execution_count": 25,
   "metadata": {
    "collapsed": false
   },
   "outputs": [
    {
     "data": {
      "text/plain": [
       "669936"
      ]
     },
     "execution_count": 25,
     "metadata": {},
     "output_type": "execute_result"
    }
   ],
   "source": [
    "len(questions)"
   ]
  },
  {
   "cell_type": "code",
   "execution_count": 27,
   "metadata": {
    "collapsed": false
   },
   "outputs": [
    {
     "data": {
      "text/plain": [
       "['which',\n",
       " 'one',\n",
       " 'dissolve',\n",
       " 'in',\n",
       " 'water',\n",
       " 'quikly',\n",
       " 'sugar',\n",
       " ',',\n",
       " 'salt',\n",
       " ',',\n",
       " 'methane',\n",
       " 'and',\n",
       " 'carbon',\n",
       " 'di',\n",
       " 'oxide',\n",
       " '?']"
      ]
     },
     "execution_count": 27,
     "metadata": {},
     "output_type": "execute_result"
    }
   ],
   "source": [
    "questions[4]"
   ]
  },
  {
   "cell_type": "code",
   "execution_count": 3,
   "metadata": {
    "collapsed": false
   },
   "outputs": [
    {
     "ename": "NameError",
     "evalue": "name 'multiprocessing' is not defined",
     "output_type": "error",
     "traceback": [
      "\u001b[0;31m---------------------------------------------------------------------------\u001b[0m",
      "\u001b[0;31mNameError\u001b[0m                                 Traceback (most recent call last)",
      "\u001b[0;32m<ipython-input-3-fd7a39c1af3e>\u001b[0m in \u001b[0;36m<module>\u001b[0;34m()\u001b[0m\n\u001b[1;32m      3\u001b[0m \u001b[0mnum_features\u001b[0m \u001b[0;34m=\u001b[0m \u001b[0;36m100\u001b[0m\u001b[0;34m\u001b[0m\u001b[0m\n\u001b[1;32m      4\u001b[0m \u001b[0mmin_word_count\u001b[0m \u001b[0;34m=\u001b[0m \u001b[0;36m1\u001b[0m\u001b[0;34m\u001b[0m\u001b[0m\n\u001b[0;32m----> 5\u001b[0;31m \u001b[0mnum_workers\u001b[0m \u001b[0;34m=\u001b[0m \u001b[0mmultiprocessing\u001b[0m\u001b[0;34m.\u001b[0m\u001b[0mcpu_count\u001b[0m\u001b[0;34m(\u001b[0m\u001b[0;34m)\u001b[0m\u001b[0;34m\u001b[0m\u001b[0m\n\u001b[0m\u001b[1;32m      6\u001b[0m \u001b[0mcontext_size\u001b[0m \u001b[0;34m=\u001b[0m \u001b[0;36m5\u001b[0m\u001b[0;34m\u001b[0m\u001b[0m\n\u001b[1;32m      7\u001b[0m \u001b[0mdownsampling\u001b[0m \u001b[0;34m=\u001b[0m \u001b[0;36m1e-3\u001b[0m\u001b[0;34m\u001b[0m\u001b[0m\n",
      "\u001b[0;31mNameError\u001b[0m: name 'multiprocessing' is not defined"
     ]
    }
   ],
   "source": [
    "\n",
    "# build model\n",
    "num_features = 100\n",
    "min_word_count = 1\n",
    "num_workers = multiprocessing.cpu_count()\n",
    "context_size = 5\n",
    "downsampling = 1e-3\n",
    "seed = 1\n",
    "quora2vec = w2v.Word2Vec(\n",
    "    sg=1,\n",
    "    seed=seed,\n",
    "    workers=num_workers,\n",
    "    size=num_features, \n",
    "    min_count=min_word_count,\n",
    "    window=context_size,\n",
    "    sample=downsampling\n",
    "\n",
    ")"
   ]
  },
  {
   "cell_type": "code",
   "execution_count": 2,
   "metadata": {
    "collapsed": false
   },
   "outputs": [
    {
     "ename": "NameError",
     "evalue": "name 'quora2vec' is not defined",
     "output_type": "error",
     "traceback": [
      "\u001b[0;31m---------------------------------------------------------------------------\u001b[0m",
      "\u001b[0;31mNameError\u001b[0m                                 Traceback (most recent call last)",
      "\u001b[0;32m<ipython-input-2-53bd68088028>\u001b[0m in \u001b[0;36m<module>\u001b[0;34m()\u001b[0m\n\u001b[0;32m----> 1\u001b[0;31m \u001b[0mquora2vec\u001b[0m\u001b[0;34m.\u001b[0m\u001b[0mbuild_vocab\u001b[0m\u001b[0;34m(\u001b[0m\u001b[0mquestions\u001b[0m\u001b[0;34m)\u001b[0m\u001b[0;34m\u001b[0m\u001b[0m\n\u001b[0m",
      "\u001b[0;31mNameError\u001b[0m: name 'quora2vec' is not defined"
     ]
    }
   ],
   "source": [
    "quora2vec.build_vocab(questions)"
   ]
  },
  {
   "cell_type": "code",
   "execution_count": 30,
   "metadata": {
    "collapsed": false
   },
   "outputs": [
    {
     "data": {
      "text/plain": [
       "23330639"
      ]
     },
     "execution_count": 30,
     "metadata": {},
     "output_type": "execute_result"
    }
   ],
   "source": [
    "# train\n",
    "quora2vec.train(questions, total_examples=quora2vec.corpus_count, epochs=quora2vec.iter)"
   ]
  },
  {
   "cell_type": "code",
   "execution_count": 31,
   "metadata": {
    "collapsed": false
   },
   "outputs": [
    {
     "data": {
      "text/plain": [
       "<gensim.models.word2vec.Word2Vec at 0x7fce00e3bba8>"
      ]
     },
     "execution_count": 31,
     "metadata": {},
     "output_type": "execute_result"
    }
   ],
   "source": [
    "quora2vec"
   ]
  },
  {
   "cell_type": "code",
   "execution_count": 32,
   "metadata": {
    "collapsed": true
   },
   "outputs": [],
   "source": [
    "# save the model\n",
    "quora2vec.save(os.path.join(\"../data\",\"quora.w2v\"))"
   ]
  },
  {
   "cell_type": "code",
   "execution_count": 38,
   "metadata": {
    "collapsed": true
   },
   "outputs": [],
   "source": [
    "def get_vector(sentence, model, size=300):\n",
    "    '''get a sentence and return its word2vec representation matrix'''\n",
    "    sentence_len = len(sentence)\n",
    "    sentence2vec = np.zeros(shape=(sentence_len, size), dtype='float32')\n",
    "    for i in range(sentence_len):\n",
    "        word = sentence[i]\n",
    "        w = model[word]\n",
    "        sentence2vec[i] = w\n",
    "    return np.mean(sentence2vec, axis=0)"
   ]
  },
  {
   "cell_type": "code",
   "execution_count": 34,
   "metadata": {
    "collapsed": true
   },
   "outputs": [],
   "source": [
    "d1 = sentences_1[:5]"
   ]
  },
  {
   "cell_type": "code",
   "execution_count": 35,
   "metadata": {
    "collapsed": false
   },
   "outputs": [
    {
     "data": {
      "text/plain": [
       "5"
      ]
     },
     "execution_count": 35,
     "metadata": {},
     "output_type": "execute_result"
    }
   ],
   "source": [
    "len(d1)"
   ]
  },
  {
   "cell_type": "code",
   "execution_count": 39,
   "metadata": {
    "collapsed": true
   },
   "outputs": [],
   "source": [
    "d1vec = d1.apply(lambda x: get_vector(x, quora2vec))"
   ]
  },
  {
   "cell_type": "code",
   "execution_count": 40,
   "metadata": {
    "collapsed": false
   },
   "outputs": [
    {
     "name": "stdout",
     "output_type": "stream",
     "text": [
      "sentence:  ['what', 'is', 'the', 'step', 'by', 'step', 'guide', 'to', 'invest', 'in', 'share', 'market', 'in', 'india', '?']\n",
      "vector:  [ -1.76989492e-02  -1.93056375e-01  -2.69635040e-02   2.68157661e-01\n",
      "  -2.79676653e-02   2.62810886e-01  -2.85850093e-02   1.83542464e-02\n",
      "   5.97551838e-02   2.00882435e-01   5.61818369e-02   1.76033497e-01\n",
      "  -8.62299427e-02  -5.75742088e-02  -4.32833694e-02   2.38263339e-01\n",
      "  -2.17663765e-01   3.48790293e-03   9.32369158e-02  -4.79277149e-02\n",
      "  -1.95169702e-01  -4.71515030e-01   8.96158069e-02   6.34968374e-03\n",
      "  -2.65770584e-01  -5.89184724e-02   6.29672259e-02  -4.20912281e-02\n",
      "   1.89381056e-02  -1.07566483e-01   3.63601685e-01  -1.28117979e-01\n",
      "   2.29109917e-02   1.09679691e-01   8.12438130e-03   1.66804299e-01\n",
      "   1.46831051e-01  -1.53821209e-04   1.97601721e-01  -1.90462932e-01\n",
      "   6.57959953e-02  -1.23254187e-01  -2.08822384e-01   8.22132006e-02\n",
      "  -9.18527842e-02  -3.34942527e-02   2.07810819e-01  -2.38584392e-02\n",
      "   1.54657498e-01   1.54791430e-01  -3.27025168e-02  -1.88628942e-01\n",
      "   1.54861182e-01  -1.25969231e-01  -2.04589143e-02  -4.23618019e-01\n",
      "  -7.74186105e-02   5.46110980e-02  -2.79658258e-01   5.15510328e-02\n",
      "  -2.39062142e-02   2.25720238e-02  -4.60825600e-02   1.87580109e-01\n",
      "   9.27826241e-02   3.34052555e-02   2.67658196e-02  -6.86187819e-02\n",
      "  -2.26975977e-01   1.77414894e-01  -6.02441877e-02   6.15093373e-02\n",
      "   1.55201018e-01  -6.89690411e-02  -2.70073086e-01   8.45651552e-02\n",
      "   1.26261190e-01  -2.57388622e-01   2.22902879e-01  -3.40529606e-02\n",
      "   1.10223487e-01  -1.67149588e-01   1.18378758e-01  -1.01778749e-02\n",
      "   1.13923445e-01  -4.71987166e-02   1.23373084e-01  -2.13133022e-01\n",
      "  -1.22502018e-02   6.07648976e-02   1.75886765e-01  -7.95264393e-02\n",
      "  -1.03083201e-01   1.70073584e-01   3.50578912e-02  -1.00334369e-01\n",
      "  -1.11775860e-01   1.53498918e-01  -4.29469422e-02   1.06038108e-01\n",
      "   3.99035662e-01  -1.13541506e-01  -2.36355081e-01   4.67986539e-02\n",
      "   2.13129729e-01   7.90464431e-02   2.77391344e-01   1.34143487e-01\n",
      "  -2.76871696e-02   1.98053829e-02  -2.73023397e-01  -4.93321978e-02\n",
      "  -2.91340295e-02   7.11767897e-02  -5.19770235e-02   2.06909388e-01\n",
      "   1.07569918e-01  -6.15362115e-02   5.31155206e-02  -1.43999362e-03\n",
      "  -2.10255250e-01   1.40687853e-01  -9.23096910e-02  -9.61386263e-02\n",
      "  -1.09621082e-02   3.28109658e-04  -2.32058585e-01   2.12699100e-01\n",
      "  -6.10818118e-02   4.55703735e-02  -1.17015325e-01   3.55439574e-01\n",
      "   9.23402328e-03   8.20938051e-02  -5.81729189e-02  -7.89775476e-02\n",
      "   8.91290754e-02  -7.34538883e-02   1.55128300e-01   8.03178698e-02\n",
      "  -3.55324298e-02   2.21582830e-01  -3.44217755e-02  -1.83758453e-01\n",
      "  -1.86182633e-01   1.60108030e-01   5.57642095e-02  -8.67821723e-02\n",
      "  -2.15214640e-01  -1.81891080e-02  -3.92240375e-01  -1.50538400e-01\n",
      "   5.45065813e-02   1.78638071e-01   9.49786901e-02  -2.06159532e-01\n",
      "  -3.47440206e-02  -3.03925984e-02  -6.59131631e-02  -5.53073771e-02\n",
      "  -1.68735668e-01  -2.44700506e-01   6.62550405e-02   1.05729312e-01\n",
      "  -1.25243723e-01   8.36572275e-02   1.29404128e-01   3.78241479e-01\n",
      "   7.98187219e-03   1.45995438e-01   2.29831189e-01  -9.46916565e-02\n",
      "   7.10730266e-04  -8.11104402e-02   9.29016545e-02  -1.71491563e-01\n",
      "  -6.46852478e-02  -2.58602083e-01  -1.36550695e-01  -1.29812807e-01\n",
      "   1.01344243e-01  -4.30941433e-02   2.14442369e-02   3.82529616e-01\n",
      "  -1.43633336e-01  -1.46918930e-02  -6.91510588e-02   8.38143528e-02\n",
      "  -1.26219526e-01  -1.01639517e-01   5.30986264e-02   5.00844978e-02\n",
      "  -8.13094303e-02  -1.50531188e-01   2.06273317e-01  -4.60652597e-02\n",
      "  -1.62640423e-01  -2.77041495e-02  -2.70098180e-01  -2.03264982e-01\n",
      "   1.59713969e-01  -1.04227975e-01  -1.57259881e-01  -1.87915727e-01\n",
      "  -1.66977018e-01   1.11887418e-01  -9.51618031e-02   1.78447798e-01\n",
      "   5.59705719e-02  -1.34416655e-01   1.80052996e-01  -6.29293844e-02\n",
      "   1.67860761e-01  -7.72936270e-02  -2.82057911e-01   2.03037888e-01\n",
      "   5.81585877e-02   1.41103482e-02   2.52718199e-02   2.00280156e-02\n",
      "  -1.69627219e-01  -2.71248013e-01  -9.49526131e-02  -2.00159311e-01\n",
      "   1.51548628e-02  -2.96375044e-02   8.04533586e-02  -1.34878591e-01\n",
      "   1.32457074e-02  -2.13724881e-01  -1.75189108e-01   2.55002439e-01\n",
      "   2.58562639e-02   8.35731849e-02   1.75192922e-01   2.06182003e-01\n",
      "  -2.22272336e-01   2.86689345e-02  -2.44822711e-01  -2.09039338e-02\n",
      "  -1.99065972e-02   4.09611687e-02  -3.65822227e-03  -3.44440341e-02\n",
      "   1.48028105e-01  -7.44773522e-02  -9.86815020e-02  -2.44558573e-01\n",
      "   5.73960878e-02  -9.91143659e-02   7.22994134e-02   1.36290714e-01\n",
      "   5.98640069e-02  -1.51024600e-02  -8.67804792e-03   3.11586149e-02\n",
      "  -6.57997876e-02  -1.38856936e-02  -1.46902353e-01  -2.43643999e-01\n",
      "  -2.24416003e-01  -1.10230833e-01   2.01242074e-01  -7.60996854e-03\n",
      "  -1.13912426e-01  -2.75308222e-01   1.27288252e-02   8.08829367e-02\n",
      "   3.59010071e-01   7.84592256e-02  -2.74432693e-02   3.47072445e-02\n",
      "   1.52133971e-01  -5.75098321e-02  -9.81210694e-02  -1.08435743e-01\n",
      "  -2.55045503e-01   3.30912732e-02  -1.22022626e-04  -5.12913279e-02\n",
      "   4.84214164e-02  -2.54596435e-02  -2.11819988e-02   1.52823299e-01\n",
      "  -1.67428479e-01  -3.12261702e-03   1.37336954e-01  -1.96610987e-01\n",
      "  -1.74496509e-02  -2.45285138e-01  -1.40331596e-01   1.34252921e-01\n",
      "   1.04451803e-02  -2.69962400e-01  -6.04120418e-02   2.33169466e-01\n",
      "  -5.50104938e-02  -1.44052580e-01   1.50379189e-03  -4.29942608e-02]\n"
     ]
    }
   ],
   "source": [
    "print('sentence: ', sentences_1[0])\n",
    "print('vector: ', d1vec[0])"
   ]
  },
  {
   "cell_type": "code",
   "execution_count": 41,
   "metadata": {
    "collapsed": false
   },
   "outputs": [
    {
     "data": {
      "text/plain": [
       "300"
      ]
     },
     "execution_count": 41,
     "metadata": {},
     "output_type": "execute_result"
    }
   ],
   "source": [
    "len(d1vec[0])"
   ]
  },
  {
   "cell_type": "code",
   "execution_count": 42,
   "metadata": {
    "collapsed": true
   },
   "outputs": [],
   "source": [
    "question_1 = sentences_1.apply(lambda x: get_vector(x, quora2vec))"
   ]
  },
  {
   "cell_type": "code",
   "execution_count": 43,
   "metadata": {
    "collapsed": true
   },
   "outputs": [],
   "source": [
    "question_2 = sentences_2.apply(lambda x: get_vector(x, quora2vec))"
   ]
  },
  {
   "cell_type": "code",
   "execution_count": 44,
   "metadata": {
    "collapsed": true
   },
   "outputs": [],
   "source": [
    "# create a word2vec data for quora dataset\n",
    "### \n",
    "is_dup = data['is_duplicate']\n",
    "quora_df = pd.DataFrame({'question_1': question_1, 'question_2': question_2, 'is_duplicate': is_dup})"
   ]
  },
  {
   "cell_type": "code",
   "execution_count": 46,
   "metadata": {
    "collapsed": false
   },
   "outputs": [
    {
     "data": {
      "text/html": [
       "<div>\n",
       "<style>\n",
       "    .dataframe thead tr:only-child th {\n",
       "        text-align: right;\n",
       "    }\n",
       "\n",
       "    .dataframe thead th {\n",
       "        text-align: left;\n",
       "    }\n",
       "\n",
       "    .dataframe tbody tr th {\n",
       "        vertical-align: top;\n",
       "    }\n",
       "</style>\n",
       "<table border=\"1\" class=\"dataframe\">\n",
       "  <thead>\n",
       "    <tr style=\"text-align: right;\">\n",
       "      <th></th>\n",
       "      <th>is_duplicate</th>\n",
       "      <th>question_1</th>\n",
       "      <th>question_2</th>\n",
       "    </tr>\n",
       "  </thead>\n",
       "  <tbody>\n",
       "    <tr>\n",
       "      <th>0</th>\n",
       "      <td>0</td>\n",
       "      <td>[-0.0176989, -0.193056, -0.0269635, 0.268158, ...</td>\n",
       "      <td>[-0.0454762, -0.207512, -0.0136385, 0.260932, ...</td>\n",
       "    </tr>\n",
       "    <tr>\n",
       "      <th>1</th>\n",
       "      <td>0</td>\n",
       "      <td>[0.00829708, -0.0273363, 0.0410704, 0.133371, ...</td>\n",
       "      <td>[0.0121135, -0.155123, -0.0672922, 0.198632, -...</td>\n",
       "    </tr>\n",
       "  </tbody>\n",
       "</table>\n",
       "</div>"
      ],
      "text/plain": [
       "   is_duplicate                                         question_1  \\\n",
       "0             0  [-0.0176989, -0.193056, -0.0269635, 0.268158, ...   \n",
       "1             0  [0.00829708, -0.0273363, 0.0410704, 0.133371, ...   \n",
       "\n",
       "                                          question_2  \n",
       "0  [-0.0454762, -0.207512, -0.0136385, 0.260932, ...  \n",
       "1  [0.0121135, -0.155123, -0.0672922, 0.198632, -...  "
      ]
     },
     "execution_count": 46,
     "metadata": {},
     "output_type": "execute_result"
    }
   ],
   "source": [
    "quora_df.head(2)"
   ]
  },
  {
   "cell_type": "code",
   "execution_count": null,
   "metadata": {
    "collapsed": true
   },
   "outputs": [],
   "source": [
    "quora_df.head()"
   ]
  },
  {
   "cell_type": "code",
   "execution_count": 47,
   "metadata": {
    "collapsed": false
   },
   "outputs": [
    {
     "data": {
      "text/plain": [
       "(334968, 3)"
      ]
     },
     "execution_count": 47,
     "metadata": {},
     "output_type": "execute_result"
    }
   ],
   "source": [
    "quora_df.shape"
   ]
  },
  {
   "cell_type": "code",
   "execution_count": 48,
   "metadata": {
    "collapsed": false
   },
   "outputs": [
    {
     "data": {
      "text/plain": [
       "(334968, 11)"
      ]
     },
     "execution_count": 48,
     "metadata": {},
     "output_type": "execute_result"
    }
   ],
   "source": [
    "data.shape"
   ]
  },
  {
   "cell_type": "code",
   "execution_count": 51,
   "metadata": {
    "collapsed": true
   },
   "outputs": [],
   "source": [
    "quora_df.to_pickle(os.path.join('../data/', 'quoraw2v.pickle'))"
   ]
  },
  {
   "cell_type": "code",
   "execution_count": null,
   "metadata": {
    "collapsed": true
   },
   "outputs": [],
   "source": []
  }
 ],
 "metadata": {
  "kernelspec": {
   "display_name": "Python 3",
   "language": "python",
   "name": "python3"
  },
  "language_info": {
   "codemirror_mode": {
    "name": "ipython",
    "version": 3
   },
   "file_extension": ".py",
   "mimetype": "text/x-python",
   "name": "python",
   "nbconvert_exporter": "python",
   "pygments_lexer": "ipython3",
   "version": "3.6.0"
  }
 },
 "nbformat": 4,
 "nbformat_minor": 2
}
